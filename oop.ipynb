{
 "cells": [
  {
   "cell_type": "code",
   "execution_count": 1,
   "metadata": {},
   "outputs": [],
   "source": [
    "class College:\n",
    "    # properties inside the class\n",
    "    College_name ='poornima institue of engieering' \n",
    "    College_city = 'jaipur'"
   ]
  },
  {
   "cell_type": "code",
   "execution_count": 7,
   "metadata": {},
   "outputs": [],
   "source": [
    "# object or instance\n",
    "obj = College()\n",
    "obj1 = College()"
   ]
  },
  {
   "cell_type": "code",
   "execution_count": 3,
   "metadata": {},
   "outputs": [
    {
     "data": {
      "text/plain": [
       "__main__.College"
      ]
     },
     "execution_count": 3,
     "metadata": {},
     "output_type": "execute_result"
    }
   ],
   "source": [
    "type(obj)"
   ]
  },
  {
   "cell_type": "code",
   "execution_count": 8,
   "metadata": {},
   "outputs": [
    {
     "name": "stdout",
     "output_type": "stream",
     "text": [
      "poornima institue of engieering\n",
      "jaipur\n",
      "jaipur\n"
     ]
    }
   ],
   "source": [
    "print(obj.College_name)\n",
    "print(obj.College_city)\n",
    "print(obj1.College_city)"
   ]
  },
  {
   "cell_type": "code",
   "execution_count": 10,
   "metadata": {},
   "outputs": [],
   "source": [
    "obj1.College_name = 'institue of engineering agra'\n",
    "obj1.College_city = 'Agra'"
   ]
  },
  {
   "cell_type": "code",
   "execution_count": 11,
   "metadata": {},
   "outputs": [
    {
     "name": "stdout",
     "output_type": "stream",
     "text": [
      "poornima institue of engieering\n",
      "jaipur\n",
      "institue of engineering agra\n",
      "Agra\n"
     ]
    }
   ],
   "source": [
    "print(obj.College_name)\n",
    "print(obj.College_city)\n",
    "print(obj1.College_name)\n",
    "print(obj1.College_city)"
   ]
  },
  {
   "cell_type": "code",
   "execution_count": 56,
   "metadata": {},
   "outputs": [],
   "source": [
    "class College:\n",
    "    # properties inside the class\n",
    "    College_name ='poornima institue of engieering' \n",
    "    College_city = 'jaipur'\n",
    "\n",
    "    # instance variable constructor\n",
    "    def __init__(self,cs_hod,ec_hod,e_hod):\n",
    "        # instance variables\n",
    "        self.colleg_cse_hod = cs_hod\n",
    "        self.colleg_ece_hod = ec_hod\n",
    "        self.colleg_electrical_hod = e_hod\n",
    "        self.student_marks = [25,35,76,84,90,65,59,70,69]\n",
    "        self.random_number = [52,45,32,67,34,86,45]\n",
    "        print('constructor called !')\n",
    "\n",
    "    def display(self):\n",
    "        print('my colleg name is :',self.College_name)\n",
    "        print('my cse hod name is :',self.colleg_cse_hod)\n",
    "        print('my colleg city is :',self.College_city)\n",
    "        \n",
    "\n",
    "    def average_finder():\n",
    "        marks = self.student_marks\n",
    "        total_sum = 0\n",
    "        count = 0\n",
    "        for item in marks :\n",
    "            total_sum += item\n",
    "            count +=1\n",
    "        print(total_sum/count)    \n",
    "\n",
    "       \n"
   ]
  },
  {
   "cell_type": "code",
   "execution_count": 57,
   "metadata": {},
   "outputs": [
    {
     "name": "stdout",
     "output_type": "stream",
     "text": [
      "constructor called !\n"
     ]
    }
   ],
   "source": [
    "#College.College_cse_hod\n",
    "obj = College(cs_hod=\"sohil\",ec_hod='harsh',e_hod='manvik')"
   ]
  },
  {
   "cell_type": "code",
   "execution_count": 59,
   "metadata": {},
   "outputs": [
    {
     "name": "stdout",
     "output_type": "stream",
     "text": [
      "63.666666666666664\n"
     ]
    }
   ],
   "source": [
    "average_finder()"
   ]
  },
  {
   "cell_type": "code",
   "execution_count": 11,
   "metadata": {},
   "outputs": [
    {
     "data": {
      "text/plain": [
       "'harsh'"
      ]
     },
     "execution_count": 11,
     "metadata": {},
     "output_type": "execute_result"
    }
   ],
   "source": [
    "obj.colleg_ece_hod"
   ]
  },
  {
   "cell_type": "code",
   "execution_count": 21,
   "metadata": {},
   "outputs": [
    {
     "name": "stdout",
     "output_type": "stream",
     "text": [
      "my colleg name is : poornima institue of engieering\n",
      "my cse hod name is : sohil\n",
      "my colleg city is : jaipur\n"
     ]
    }
   ],
   "source": [
    "obj.display()"
   ]
  },
  {
   "cell_type": "code",
   "execution_count": 49,
   "metadata": {},
   "outputs": [],
   "source": [
    "marks = [25,35,76,84,90,65,59,70,69]\n",
    "marks\n",
    "def average_finder():\n",
    "    total_sum = 0\n",
    "    count = 0\n",
    "    for item in marks :\n",
    "        total_sum += item\n",
    "        count +=1\n",
    "    print(total_sum/count)    "
   ]
  },
  {
   "cell_type": "code",
   "execution_count": 50,
   "metadata": {},
   "outputs": [
    {
     "name": "stdout",
     "output_type": "stream",
     "text": [
      "63.666666666666664\n"
     ]
    }
   ],
   "source": [
    "average_finder()"
   ]
  },
  {
   "cell_type": "code",
   "execution_count": 68,
   "metadata": {},
   "outputs": [],
   "source": [
    "class hello:\n",
    "    def __init__(self):\n",
    "        self.random_number = [52,45,32,67,34,86,45]\n",
    "\n",
    "        \n",
    "    def even_odd_counter(self):\n",
    "        pass\n",
    "\n",
    "    def even_averag_finder(seld):\n",
    "        pass\n",
    "\n",
    "    def target_finder(self,item):\n",
    "        pass"
   ]
  },
  {
   "cell_type": "code",
   "execution_count": null,
   "metadata": {},
   "outputs": [],
   "source": []
  },
  {
   "cell_type": "code",
   "execution_count": 67,
   "metadata": {},
   "outputs": [
    {
     "data": {
      "text/plain": [
       "True"
      ]
     },
     "execution_count": 67,
     "metadata": {},
     "output_type": "execute_result"
    }
   ],
   "source": [
    "75 % 2 == 0\n",
    "20 % 2 == 0"
   ]
  }
 ],
 "metadata": {
  "kernelspec": {
   "display_name": "Python 3",
   "language": "python",
   "name": "python3"
  },
  "language_info": {
   "codemirror_mode": {
    "name": "ipython",
    "version": 3
   },
   "file_extension": ".py",
   "mimetype": "text/x-python",
   "name": "python",
   "nbconvert_exporter": "python",
   "pygments_lexer": "ipython3",
   "version": "3.11.4"
  }
 },
 "nbformat": 4,
 "nbformat_minor": 2
}
